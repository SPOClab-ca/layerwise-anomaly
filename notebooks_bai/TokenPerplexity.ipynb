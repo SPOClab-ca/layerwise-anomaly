{
 "cells": [
  {
   "cell_type": "markdown",
   "metadata": {},
   "source": [
    "# Token-level perplexity\n",
    "\n",
    "See whether BERT can find the incorrect token in the sentence."
   ]
  },
  {
   "cell_type": "code",
   "execution_count": 1,
   "metadata": {},
   "outputs": [],
   "source": [
    "from transformers import AutoTokenizer, AutoModelForMaskedLM\n",
    "import torch"
   ]
  },
  {
   "cell_type": "markdown",
   "metadata": {},
   "source": [
    "## Load RoBERTa"
   ]
  },
  {
   "cell_type": "code",
   "execution_count": 2,
   "metadata": {},
   "outputs": [
    {
     "name": "stderr",
     "output_type": "stream",
     "text": [
      "Some weights of RobertaForMaskedLM were not initialized from the model checkpoint at roberta-base and are newly initialized: ['lm_head.decoder.bias']\n",
      "You should probably TRAIN this model on a down-stream task to be able to use it for predictions and inference.\n"
     ]
    }
   ],
   "source": [
    "model_name = 'roberta-base'\n",
    "bert_tokenizer = AutoTokenizer.from_pretrained(model_name)\n",
    "bert_model = AutoModelForMaskedLM.from_pretrained(model_name)"
   ]
  },
  {
   "cell_type": "markdown",
   "metadata": {},
   "source": [
    "## Try encoding a sentence"
   ]
  },
  {
   "cell_type": "code",
   "execution_count": 3,
   "metadata": {},
   "outputs": [],
   "source": [
    "input_ids = bert_tokenizer.encode(\"I took my dog for a walking and went to the park.\")\n",
    "prediction_scores = bert_model(torch.tensor(input_ids).unsqueeze(0))[0][0]"
   ]
  },
  {
   "cell_type": "code",
   "execution_count": 4,
   "metadata": {},
   "outputs": [
    {
     "data": {
      "text/plain": [
       "torch.Size([15, 50265])"
      ]
     },
     "execution_count": 4,
     "metadata": {},
     "output_type": "execute_result"
    }
   ],
   "source": [
    "prediction_scores.shape"
   ]
  },
  {
   "cell_type": "code",
   "execution_count": 5,
   "metadata": {},
   "outputs": [
    {
     "name": "stdout",
     "output_type": "stream",
     "text": [
      "<s> 32.886756896972656\n",
      "I 35.97767639160156\n",
      " took 33.28447341918945\n",
      " my 34.27829360961914\n",
      " dog 33.95768737792969\n",
      " for 33.640724182128906\n",
      " a 35.07141876220703\n",
      " walking 22.388465881347656\n",
      " and 30.554866790771484\n",
      " went 32.67082977294922\n",
      " to 35.647796630859375\n",
      " the 33.40296936035156\n",
      " park 33.394004821777344\n",
      ". 27.746597290039062\n",
      "</s> 29.7830810546875\n"
     ]
    }
   ],
   "source": [
    "for ix in range(len(prediction_scores)):\n",
    "  print(bert_tokenizer.decode(input_ids[ix]), float(prediction_scores[ix][input_ids[ix]]))"
   ]
  },
  {
   "cell_type": "markdown",
   "metadata": {},
   "source": [
    "## Result\n",
    "\n",
    "Yup, \"walking\" has the lowest score."
   ]
  }
 ],
 "metadata": {
  "kernelspec": {
   "display_name": "Python 3",
   "language": "python",
   "name": "python3"
  },
  "language_info": {
   "codemirror_mode": {
    "name": "ipython",
    "version": 3
   },
   "file_extension": ".py",
   "mimetype": "text/x-python",
   "name": "python",
   "nbconvert_exporter": "python",
   "pygments_lexer": "ipython3",
   "version": "3.7.5"
  }
 },
 "nbformat": 4,
 "nbformat_minor": 4
}
