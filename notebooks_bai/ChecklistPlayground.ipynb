{
 "cells": [
  {
   "cell_type": "markdown",
   "metadata": {},
   "source": [
    "# CheckList Playground\n",
    "\n",
    "Useful for coming up with a lot of words of some class (eg: transitive verb)."
   ]
  },
  {
   "cell_type": "code",
   "execution_count": 1,
   "metadata": {},
   "outputs": [],
   "source": [
    "import checklist\n",
    "from checklist.editor import Editor"
   ]
  },
  {
   "cell_type": "code",
   "execution_count": 2,
   "metadata": {},
   "outputs": [],
   "source": [
    "editor = Editor()"
   ]
  },
  {
   "cell_type": "code",
   "execution_count": 9,
   "metadata": {},
   "outputs": [
    {
     "data": {
      "text/plain": [
       "['driver',\n",
       " 'man',\n",
       " 'officer',\n",
       " 'owner',\n",
       " 'cop',\n",
       " 'guy',\n",
       " 'police',\n",
       " 'detective',\n",
       " 'boy',\n",
       " 'salesman',\n",
       " 'dealer',\n",
       " 'mechanic',\n",
       " 'policeman',\n",
       " 'guard',\n",
       " 'mayor',\n",
       " 'passenger',\n",
       " 'seller',\n",
       " 'cops',\n",
       " 'suspect',\n",
       " 'woman',\n",
       " 'agent',\n",
       " 'clerk',\n",
       " 'sheriff',\n",
       " 'lawyer',\n",
       " 'father',\n",
       " 'victim',\n",
       " 'witness',\n",
       " 'professor',\n",
       " 'friend',\n",
       " 'manager',\n",
       " 'son',\n",
       " 'doctor',\n",
       " 'farmer',\n",
       " 'neighbor',\n",
       " 'teen',\n",
       " 'landlord',\n",
       " 'men',\n",
       " 'deputy',\n",
       " 'captain',\n",
       " 'dispatcher',\n",
       " 'girl',\n",
       " 'student',\n",
       " 'engineer',\n",
       " 'homeowner',\n",
       " 'kid',\n",
       " 'lieutenant',\n",
       " 'teenager',\n",
       " 'sergeant',\n",
       " 'officers',\n",
       " 'businessman',\n",
       " 'stranger',\n",
       " 'chief',\n",
       " 'pilot',\n",
       " 'reporter',\n",
       " 'judge',\n",
       " 'defendant',\n",
       " 'brother',\n",
       " 'attendant',\n",
       " 'bartender',\n",
       " 'client',\n",
       " 'family',\n",
       " 'car',\n",
       " 'buyer',\n",
       " 'employee',\n",
       " 'caller',\n",
       " 'gentleman',\n",
       " 'investigator',\n",
       " 'informant',\n",
       " 'FBI',\n",
       " 'inspector',\n",
       " 'ranger',\n",
       " 'teacher',\n",
       " 'customer',\n",
       " 'boss',\n",
       " 'trooper',\n",
       " 'attorney',\n",
       " 'official',\n",
       " 'assistant',\n",
       " 'worker',\n",
       " 'boyfriend',\n",
       " 'boys',\n",
       " 'person',\n",
       " 'GM',\n",
       " 'photographer',\n",
       " 'operator',\n",
       " 'couple',\n",
       " 'firefighter',\n",
       " 'thief',\n",
       " 'technician',\n",
       " 'instructor',\n",
       " 'conductor',\n",
       " 'youth',\n",
       " 'truck',\n",
       " 'Sheriff',\n",
       " 'prosecutor',\n",
       " 'translator',\n",
       " 'robber',\n",
       " 'husband',\n",
       " 'painter',\n",
       " 'guys',\n",
       " 'guide',\n",
       " 'dad',\n",
       " 'priest',\n",
       " 'company',\n",
       " 'president',\n",
       " 'vendor',\n",
       " 'gang',\n",
       " 'owners',\n",
       " 'soldier',\n",
       " 'coach']"
      ]
     },
     "execution_count": 9,
     "metadata": {},
     "output_type": "execute_result"
    }
   ],
   "source": [
    "editor.suggest('The {mask} showed him his car.')"
   ]
  }
 ],
 "metadata": {
  "kernelspec": {
   "display_name": "Python 3",
   "language": "python",
   "name": "python3"
  },
  "language_info": {
   "codemirror_mode": {
    "name": "ipython",
    "version": 3
   },
   "file_extension": ".py",
   "mimetype": "text/x-python",
   "name": "python",
   "nbconvert_exporter": "python",
   "pygments_lexer": "ipython3",
   "version": "3.7.5"
  }
 },
 "nbformat": 4,
 "nbformat_minor": 4
}
