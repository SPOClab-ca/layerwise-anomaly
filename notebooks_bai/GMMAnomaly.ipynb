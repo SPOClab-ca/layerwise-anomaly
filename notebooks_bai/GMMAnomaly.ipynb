{
 "cells": [
  {
   "cell_type": "markdown",
   "metadata": {},
   "source": [
    "# GMM Anomaly Detection in contextual tokens"
   ]
  },
  {
   "cell_type": "code",
   "execution_count": 1,
   "metadata": {},
   "outputs": [],
   "source": [
    "import sys\n",
    "sys.path.append('../')\n",
    "\n",
    "import pickle\n",
    "import random\n",
    "import numpy as np\n",
    "import matplotlib.pyplot as plt\n",
    "\n",
    "import src.sentpair_generator\n",
    "import src.anomaly_model\n",
    "\n",
    "%matplotlib inline\n",
    "%load_ext autoreload\n",
    "%autoreload 2"
   ]
  },
  {
   "cell_type": "markdown",
   "metadata": {},
   "source": [
    "## Pick random subset of sentences"
   ]
  },
  {
   "cell_type": "code",
   "execution_count": 2,
   "metadata": {},
   "outputs": [],
   "source": [
    "with open('../data/bnc.pkl', 'rb') as f:\n",
    "  bnc_sentences = pickle.load(f)\n",
    "\n",
    "random.seed(12345)\n",
    "bnc_sentences = random.sample(bnc_sentences, 1000)"
   ]
  },
  {
   "cell_type": "markdown",
   "metadata": {},
   "source": [
    "## Plot of GMM score at each layer and word"
   ]
  },
  {
   "cell_type": "code",
   "execution_count": 13,
   "metadata": {},
   "outputs": [],
   "source": [
    "model = src.anomaly_model.AnomalyModel(bnc_sentences)"
   ]
  },
  {
   "cell_type": "code",
   "execution_count": 18,
   "metadata": {},
   "outputs": [
    {
     "data": {
      "image/png": "[encoded data removed]",
      "text/plain": [
       "<Figure size 576x576 with 1 Axes>"
      ]
     },
     "metadata": {
      "needs_background": "light"
     },
     "output_type": "display_data"
    }
   ],
   "source": [
    "def all_layer_scores(sent):\n",
    "  tokens, all_layer = model.gmm_score(sent)\n",
    "  plt.figure(figsize=(8, 8))\n",
    "  plt.imshow(all_layer, origin='lower')\n",
    "  plt.xticks(range(len(tokens)), tokens, rotation='vertical')\n",
    "  plt.yticks(range(12), range(12))\n",
    "  plt.ylabel('Layer')\n",
    "  plt.show()\n",
    "\n",
    "all_layer_scores(\"The cats won't eating the food that Mary gives them.\")"
   ]
  },
  {
   "cell_type": "markdown",
   "metadata": {},
   "source": [
    "## Evaluate on Osterhout / Nicol data"
   ]
  },
  {
   "cell_type": "code",
   "execution_count": 15,
   "metadata": {},
   "outputs": [],
   "source": [
    "sentgen = src.sentpair_generator.SentPairGenerator()"
   ]
  },
  {
   "cell_type": "code",
   "execution_count": 22,
   "metadata": {},
   "outputs": [
    {
     "name": "stdout",
     "output_type": "stream",
     "text": [
      "0 0.5222222222222223 0.5333333333333333\n",
      "1 0.6111111111111112 0.4\n",
      "2 0.7888888888888889 0.4222222222222222\n",
      "3 0.9222222222222223 0.4444444444444444\n",
      "4 0.9777777777777777 0.6111111111111112\n",
      "5 0.9777777777777777 0.5666666666666667\n",
      "6 0.9888888888888889 0.5777777777777777\n",
      "7 0.9888888888888889 0.6666666666666666\n",
      "8 0.9777777777777777 0.6333333333333333\n",
      "9 0.9888888888888889 0.7333333333333333\n",
      "10 0.9777777777777777 0.8444444444444444\n",
      "11 0.9888888888888889 0.8666666666666667\n",
      "12 0.9 0.7\n"
     ]
    }
   ],
   "source": [
    "for layer in range(13):\n",
    "  syn_score = model.eval_sent_pairs(sentgen.get_osterhout_nicol(anomaly_type='syntactic'), layer)\n",
    "  sem_score = model.eval_sent_pairs(sentgen.get_osterhout_nicol(anomaly_type='semantic'), layer)\n",
    "  print(layer, syn_score, sem_score)"
   ]
  }
 ],
 "metadata": {
  "kernelspec": {
   "display_name": "Python 3",
   "language": "python",
   "name": "python3"
  },
  "language_info": {
   "codemirror_mode": {
    "name": "ipython",
    "version": 3
   },
   "file_extension": ".py",
   "mimetype": "text/x-python",
   "name": "python",
   "nbconvert_exporter": "python",
   "pygments_lexer": "ipython3",
   "version": "3.7.5"
  }
 },
 "nbformat": 4,
 "nbformat_minor": 4
}
