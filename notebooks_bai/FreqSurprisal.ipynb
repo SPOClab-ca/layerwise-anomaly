{
 "cells": [
  {
   "cell_type": "markdown",
   "metadata": {},
   "source": [
    "# Frequency and Surprisal\n",
    "\n",
    "How sensitive are all the different layers to token frequency?"
   ]
  },
  {
   "cell_type": "code",
   "execution_count": null,
   "metadata": {},
   "outputs": [],
   "source": [
    "import sys\n",
    "sys.path.append('../')\n",
    "\n",
    "import pickle\n",
    "import random\n",
    "import numpy as np\n",
    "import pandas as pd\n",
    "import matplotlib.pyplot as plt\n",
    "from collections import defaultdict, Counter\n",
    "import seaborn as sns\n",
    "import itertools\n",
    "import math\n",
    "import scipy\n",
    "\n",
    "import src.anomaly_model\n",
    "\n",
    "%matplotlib inline\n",
    "%load_ext autoreload\n",
    "%autoreload 2"
   ]
  },
  {
   "cell_type": "markdown",
   "metadata": {},
   "source": [
    "## Load model"
   ]
  },
  {
   "cell_type": "code",
   "execution_count": null,
   "metadata": {},
   "outputs": [],
   "source": [
    "with open('../data/bnc.pkl', 'rb') as f:\n",
    "  bnc_sentences = pickle.load(f)\n",
    "\n",
    "random.seed(12345)\n",
    "bnc_sentences_train = random.sample(bnc_sentences, 5000)\n",
    "bnc_sentences_test = random.sample(bnc_sentences, 5000)"
   ]
  },
  {
   "cell_type": "code",
   "execution_count": null,
   "metadata": {},
   "outputs": [],
   "source": [
    "model = src.anomaly_model.AnomalyModel(bnc_sentences_train, model_name='xlnet-base-cased')"
   ]
  },
  {
   "cell_type": "markdown",
   "metadata": {},
   "source": [
    "## Tabulate token frequencies"
   ]
  },
  {
   "cell_type": "code",
   "execution_count": null,
   "metadata": {},
   "outputs": [],
   "source": [
    "tokens, all_layer = model.gmm_score(bnc_sentences_test)"
   ]
  },
  {
   "cell_type": "code",
   "execution_count": null,
   "metadata": {},
   "outputs": [],
   "source": [
    "freq_counter = Counter(itertools.chain.from_iterable(tokens))"
   ]
  },
  {
   "cell_type": "code",
   "execution_count": null,
   "metadata": {},
   "outputs": [],
   "source": [
    "freq_counter.most_common(10)"
   ]
  },
  {
   "cell_type": "markdown",
   "metadata": {},
   "source": [
    "## Plot all layers"
   ]
  },
  {
   "cell_type": "code",
   "execution_count": null,
   "metadata": {},
   "outputs": [],
   "source": [
    "def plot_for_one_layer(layer):\n",
    "  df = []\n",
    "  for sent_ix, sent in enumerate(tokens):\n",
    "    for tok_ix, token in enumerate(sent):\n",
    "      surprisal = all_layer[sent_ix][layer, tok_ix]\n",
    "      logfreq = math.log(freq_counter[token])\n",
    "      df.append({'token': token, 'logfreq': logfreq, 'surprisal': surprisal})\n",
    "  df = pd.DataFrame(df)\n",
    "  corr = scipy.stats.pearsonr(df.logfreq, df.surprisal)[0]\n",
    "  print(corr)\n",
    "\n",
    "  #sns.regplot(x='logfreq', y='surprisal', data=df)\n",
    "  #plt.title(f'Layer {layer}, pearson={corr:0.2f}')\n",
    "  #plt.ylabel('Anomaly Score')\n",
    "  #plt.xlabel('Log Frequency')\n",
    "  #plt.show()"
   ]
  },
  {
   "cell_type": "code",
   "execution_count": null,
   "metadata": {},
   "outputs": [],
   "source": [
    "for layer in range(13):\n",
    "  plot_for_one_layer(layer)"
   ]
  }
 ],
 "metadata": {
  "kernelspec": {
   "display_name": "Python 3",
   "language": "python",
   "name": "python3"
  },
  "language_info": {
   "codemirror_mode": {
    "name": "ipython",
    "version": 3
   },
   "file_extension": ".py",
   "mimetype": "text/x-python",
   "name": "python",
   "nbconvert_exporter": "python",
   "pygments_lexer": "ipython3",
   "version": "3.7.5"
  }
 },
 "nbformat": 4,
 "nbformat_minor": 4
}
