{
 "cells": [
  {
   "cell_type": "markdown",
   "metadata": {},
   "source": [
    "# Performance of MLM\n",
    "\n",
    "What is the performance of all of these tasks using MLM instead of GMM?"
   ]
  },
  {
   "cell_type": "code",
   "execution_count": 35,
   "metadata": {},
   "outputs": [
    {
     "name": "stdout",
     "output_type": "stream",
     "text": [
      "The autoreload extension is already loaded. To reload it, use:\n",
      "  %reload_ext autoreload\n"
     ]
    }
   ],
   "source": [
    "import sys\n",
    "sys.path.append('../')\n",
    "\n",
    "import pickle\n",
    "import random\n",
    "import numpy as np\n",
    "import pandas as pd\n",
    "import matplotlib.pyplot as plt\n",
    "import seaborn as sns\n",
    "\n",
    "import transformers\n",
    "from transformers import AutoTokenizer\n",
    "\n",
    "import src.sentpair_generator\n",
    "import src.anomaly_model\n",
    "\n",
    "%matplotlib inline\n",
    "%load_ext autoreload\n",
    "%autoreload 2\n",
    "pd.options.display.max_columns = 100\n",
    "pd.options.display.max_rows = 100"
   ]
  },
  {
   "cell_type": "markdown",
   "metadata": {},
   "source": [
    "## Train model"
   ]
  },
  {
   "cell_type": "code",
   "execution_count": 28,
   "metadata": {},
   "outputs": [],
   "source": [
    "with open('../data/bnc.pkl', 'rb') as f:\n",
    "  bnc_sentences = pickle.load(f)\n",
    "\n",
    "random.seed(12345)\n",
    "bnc_sentences = random.sample(bnc_sentences, 1000)"
   ]
  },
  {
   "cell_type": "code",
   "execution_count": 29,
   "metadata": {},
   "outputs": [],
   "source": [
    "model = src.anomaly_model.AnomalyModel(bnc_sentences, model_name='xlnet-base-cased')"
   ]
  },
  {
   "cell_type": "code",
   "execution_count": 30,
   "metadata": {},
   "outputs": [],
   "source": [
    "sentgen = src.sentpair_generator.SentPairGenerator()"
   ]
  },
  {
   "cell_type": "code",
   "execution_count": 31,
   "metadata": {},
   "outputs": [
    {
     "name": "stdout",
     "output_type": "stream",
     "text": [
      "BLiMP-SubjVerb 2000\n",
      "BLiMP-DetNoun 2000\n",
      "Osterhout-Nicol-Syntactic 90\n",
      "BLiMP-Animacy 2000\n",
      "Pylkkanen 70\n",
      "Warren-Selectional 30\n",
      "Osterhout-Nicol-Semantic 90\n",
      "Osterhout-Mobley 90\n",
      "Warren-Pragmatic 30\n",
      "CPRAG-34 34\n",
      "ROLE-88 44\n",
      "Urbach 120\n"
     ]
    }
   ],
   "source": [
    "for task_name, sent_pair_set in sentgen.get_hand_selected().items():\n",
    "  print(task_name, len(sent_pair_set.sent_pairs))"
   ]
  },
  {
   "cell_type": "markdown",
   "metadata": {},
   "source": [
    "## Filter sentences that are in all of their vocab"
   ]
  },
  {
   "cell_type": "code",
   "execution_count": 36,
   "metadata": {},
   "outputs": [],
   "source": [
    "tok_roberta = AutoTokenizer.from_pretrained('roberta-base')\n",
    "tok_bert = AutoTokenizer.from_pretrained('bert-base-uncased')\n",
    "tok_xlnet = AutoTokenizer.from_pretrained('xlnet-base-cased')"
   ]
  },
  {
   "cell_type": "code",
   "execution_count": 32,
   "metadata": {},
   "outputs": [],
   "source": [
    "# Return true if the list of tokens differs in exactly one place\n",
    "def is_single_diff(toks1, toks2):\n",
    "  if len(toks1) != len(toks2):\n",
    "    return False\n",
    "  \n",
    "  diff_toks = 0\n",
    "  for ix in range(len(toks1)):\n",
    "    if toks1[ix] != toks2[ix]:\n",
    "      diff_toks += 1\n",
    "  \n",
    "  return diff_toks == 1"
   ]
  },
  {
   "cell_type": "code",
   "execution_count": 37,
   "metadata": {},
   "outputs": [],
   "source": [
    "def works_for_model(tokenizer, sent1, sent2):\n",
    "  toks1 = tokenizer.tokenize(sent1)\n",
    "  toks2 = tokenizer.tokenize(sent2)\n",
    "  return is_single_diff(toks1, toks2)"
   ]
  },
  {
   "cell_type": "code",
   "execution_count": 38,
   "metadata": {},
   "outputs": [
    {
     "name": "stdout",
     "output_type": "stream",
     "text": [
      "BLiMP-SubjVerb 1542\n",
      "BLiMP-DetNoun 1813\n",
      "Osterhout-Nicol-Syntactic 71\n",
      "BLiMP-Animacy 658\n",
      "Pylkkanen 44\n",
      "Warren-Selectional 18\n",
      "Osterhout-Nicol-Semantic 69\n",
      "Osterhout-Mobley 53\n",
      "Warren-Pragmatic 20\n",
      "CPRAG-34 24\n",
      "ROLE-88 0\n",
      "Urbach 66\n"
     ]
    }
   ],
   "source": [
    "for task_name, sent_pair_set in sentgen.get_hand_selected().items():\n",
    "  num_include = 0\n",
    "  for sent1, sent2 in sent_pair_set.sent_pairs:\n",
    "    if works_for_model(tok_roberta, sent1, sent2) and \\\n",
    "        works_for_model(tok_bert, sent1, sent2) and\\\n",
    "        works_for_model(tok_xlnet, sent1, sent2):\n",
    "      num_include += 1\n",
    "  print(task_name, num_include)"
   ]
  }
 ],
 "metadata": {
  "kernelspec": {
   "display_name": "Python 3",
   "language": "python",
   "name": "python3"
  },
  "language_info": {
   "codemirror_mode": {
    "name": "ipython",
    "version": 3
   },
   "file_extension": ".py",
   "mimetype": "text/x-python",
   "name": "python",
   "nbconvert_exporter": "python",
   "pygments_lexer": "ipython3",
   "version": "3.7.5"
  }
 },
 "nbformat": 4,
 "nbformat_minor": 4
}
