{
 "cells": [
  {
   "cell_type": "markdown",
   "metadata": {},
   "source": [
    "# Position Anomaly Difference\n",
    "\n",
    "Is the anomaly concentrated on the word that's wrong, or distributed throughout?"
   ]
  },
  {
   "cell_type": "code",
   "execution_count": 1,
   "metadata": {},
   "outputs": [],
   "source": [
    "import sys\n",
    "sys.path.append('../')\n",
    "\n",
    "import pickle\n",
    "import random\n",
    "import numpy as np\n",
    "import pandas as pd\n",
    "import matplotlib.pyplot as plt\n",
    "import seaborn as sns\n",
    "\n",
    "import src.sentpair_generator\n",
    "import src.anomaly_model\n",
    "\n",
    "%matplotlib inline\n",
    "%load_ext autoreload\n",
    "%autoreload 2\n",
    "pd.options.display.max_columns = 100\n",
    "pd.options.display.max_rows = 100"
   ]
  },
  {
   "cell_type": "markdown",
   "metadata": {},
   "source": [
    "## Train model"
   ]
  },
  {
   "cell_type": "code",
   "execution_count": 2,
   "metadata": {},
   "outputs": [],
   "source": [
    "with open('../data/bnc.pkl', 'rb') as f:\n",
    "  bnc_sentences = pickle.load(f)\n",
    "\n",
    "random.seed(12345)\n",
    "bnc_sentences = random.sample(bnc_sentences, 1000)"
   ]
  },
  {
   "cell_type": "code",
   "execution_count": 3,
   "metadata": {},
   "outputs": [],
   "source": [
    "model = src.anomaly_model.AnomalyModel(bnc_sentences)"
   ]
  },
  {
   "cell_type": "code",
   "execution_count": 4,
   "metadata": {},
   "outputs": [],
   "source": [
    "sentgen = src.sentpair_generator.SentPairGenerator()"
   ]
  },
  {
   "cell_type": "markdown",
   "metadata": {},
   "source": [
    "## Pick random sentences\n",
    "\n",
    "Create a dataset consisting of max 100 sentences from each type, excluding pragmatic ones"
   ]
  },
  {
   "cell_type": "code",
   "execution_count": 5,
   "metadata": {},
   "outputs": [
    {
     "name": "stdout",
     "output_type": "stream",
     "text": [
      "BLiMP-SubjVerb 2000\n",
      "BLiMP-DetNoun 2000\n",
      "Osterhout-Nicol-Syntactic 90\n",
      "BLiMP-Animacy 2000\n",
      "Pylkkanen 70\n",
      "Warren-Selectional 30\n",
      "Osterhout-Nicol-Semantic 90\n",
      "Osterhout-Mobley 90\n",
      "Warren-Pragmatic 30\n",
      "CPRAG-34 34\n",
      "ROLE-88 44\n",
      "Urbach 120\n"
     ]
    }
   ],
   "source": [
    "for task_name, sent_pair_set in sentgen.get_hand_selected().items():\n",
    "  print(task_name, len(sent_pair_set.sent_pairs))"
   ]
  },
  {
   "cell_type": "code",
   "execution_count": 6,
   "metadata": {},
   "outputs": [],
   "source": [
    "sent_pairs = []\n",
    "for _, sent_pair_set in sentgen.get_hand_selected().items():\n",
    "  if sent_pair_set.category != 'Pragmatic':\n",
    "    cur_sent_pairs = sent_pair_set.sent_pairs\n",
    "    if len(cur_sent_pairs) > 100:\n",
    "      cur_sent_pairs = random.sample(cur_sent_pairs, 100)\n",
    "    sent_pairs.extend(cur_sent_pairs)"
   ]
  },
  {
   "cell_type": "markdown",
   "metadata": {},
   "source": [
    "## Compute anomaly difference, by position"
   ]
  },
  {
   "cell_type": "code",
   "execution_count": 7,
   "metadata": {},
   "outputs": [],
   "source": [
    "LAYER = 11\n",
    "\n",
    "df = []\n",
    "for s1, s2 in sent_pairs:\n",
    "  tokens, all_layer = model.gmm_score([s1, s2])\n",
    "  tok1 = tokens[0]\n",
    "  tok2 = tokens[1]\n",
    "  anom1 = all_layer[0][LAYER]\n",
    "  anom2 = all_layer[1][LAYER]\n",
    "  \n",
    "  # Exclude if they have different number of tokens\n",
    "  if len(tok1) != len(tok2):\n",
    "    continue\n",
    "  \n",
    "  anom_diff = anom1 - anom2\n",
    "  \n",
    "  # Compute position that they differ\n",
    "  diff_pos = None\n",
    "  for ix in range(len(tok1)):\n",
    "    if tok1[ix] != tok2[ix]:\n",
    "      diff_pos = ix\n",
    "      break\n",
    "  \n",
    "  # Add each token to df\n",
    "  for ix in range(len(tok1)):\n",
    "    df.append(pd.Series({\n",
    "      'tok1': tok1[ix],\n",
    "      'tok2': tok2[ix],\n",
    "      'rel_position': ix - diff_pos,\n",
    "      'anom_diff': anom_diff[ix],\n",
    "    }))\n",
    "\n",
    "df = pd.DataFrame(df)"
   ]
  },
  {
   "cell_type": "markdown",
   "metadata": {},
   "source": [
    "## Make plot"
   ]
  },
  {
   "cell_type": "code",
   "execution_count": 12,
   "metadata": {},
   "outputs": [
    {
     "data": {
      "text/plain": [
       "<matplotlib.axes._subplots.AxesSubplot at 0x7f8e57d43410>"
      ]
     },
     "execution_count": 12,
     "metadata": {},
     "output_type": "execute_result"
    },
    {
     "data": {
      "image/png": "[encoded data removed]",
      "text/plain": [
       "<Figure size 432x288 with 1 Axes>"
      ]
     },
     "metadata": {
      "needs_background": "light"
     },
     "output_type": "display_data"
    }
   ],
   "source": [
    "df_filtered = df[(df.rel_position >= -5) & (df.rel_position <= 5)]\n",
    "sns.barplot(x='rel_position', y='anom_diff', data=df_filtered, color='lightblue')"
   ]
  }
 ],
 "metadata": {
  "kernelspec": {
   "display_name": "Python 3",
   "language": "python",
   "name": "python3"
  },
  "language_info": {
   "codemirror_mode": {
    "name": "ipython",
    "version": 3
   },
   "file_extension": ".py",
   "mimetype": "text/x-python",
   "name": "python",
   "nbconvert_exporter": "python",
   "pygments_lexer": "ipython3",
   "version": "3.7.5"
  }
 },
 "nbformat": 4,
 "nbformat_minor": 4
}
