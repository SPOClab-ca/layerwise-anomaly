{
 "cells": [
  {
   "cell_type": "markdown",
   "metadata": {},
   "source": [
    "# Position Anomaly Difference\n",
    "\n",
    "Is the anomaly concentrated on the word that's wrong, or distributed throughout?"
   ]
  },
  {
   "cell_type": "code",
   "execution_count": 1,
   "metadata": {},
   "outputs": [],
   "source": [
    "import sys\n",
    "sys.path.append('../')\n",
    "\n",
    "import pickle\n",
    "import random\n",
    "import numpy as np\n",
    "import pandas as pd\n",
    "import matplotlib.pyplot as plt\n",
    "import seaborn as sns\n",
    "\n",
    "import src.sentpair_generator\n",
    "import src.anomaly_model\n",
    "\n",
    "%matplotlib inline\n",
    "%load_ext autoreload\n",
    "%autoreload 2\n",
    "pd.options.display.max_columns = 100\n",
    "pd.options.display.max_rows = 100"
   ]
  },
  {
   "cell_type": "markdown",
   "metadata": {},
   "source": [
    "## Train model"
   ]
  },
  {
   "cell_type": "code",
   "execution_count": 2,
   "metadata": {},
   "outputs": [],
   "source": [
    "with open('../data/bnc.pkl', 'rb') as f:\n",
    "  bnc_sentences = pickle.load(f)\n",
    "\n",
    "random.seed(12345)\n",
    "bnc_sentences = random.sample(bnc_sentences, 1000)"
   ]
  },
  {
   "cell_type": "code",
   "execution_count": null,
   "metadata": {},
   "outputs": [],
   "source": [
    "model = src.anomaly_model.AnomalyModel(bnc_sentences)"
   ]
  },
  {
   "cell_type": "code",
   "execution_count": 3,
   "metadata": {},
   "outputs": [],
   "source": [
    "sentgen = src.sentpair_generator.SentPairGenerator()"
   ]
  },
  {
   "cell_type": "markdown",
   "metadata": {},
   "source": [
    "## Pick random sentences\n",
    "\n",
    "Create a dataset consisting of max 100 sentences from each type, excluding pragmatic ones"
   ]
  },
  {
   "cell_type": "code",
   "execution_count": 10,
   "metadata": {},
   "outputs": [
    {
     "name": "stdout",
     "output_type": "stream",
     "text": [
      "BLiMP-SubjVerb 2000\n",
      "BLiMP-DetNoun 2000\n",
      "Osterhout-Nicol-Syntactic 90\n",
      "BLiMP-Animacy 2000\n",
      "Pylkkanen 70\n",
      "Warren-Selectional 30\n",
      "Osterhout-Nicol-Semantic 90\n",
      "Osterhout-Mobley 90\n",
      "Warren-Pragmatic 30\n",
      "CPRAG-34 34\n",
      "ROLE-88 44\n",
      "Urbach 120\n"
     ]
    }
   ],
   "source": [
    "for task_name, sent_pair_set in sentgen.get_hand_selected().items():\n",
    "  print(task_name, len(sent_pair_set.sent_pairs))"
   ]
  },
  {
   "cell_type": "code",
   "execution_count": 7,
   "metadata": {},
   "outputs": [],
   "source": [
    "sent_pairs = []\n",
    "for _, sent_pair_set in sentgen.get_hand_selected().items():\n",
    "  if sent_pair_set.category != 'Pragmatic':\n",
    "    cur_sent_pairs = sent_pair_set.sent_pairs\n",
    "    if len(cur_sent_pairs) > 100:\n",
    "      cur_sent_pairs = random.sample(cur_sent_pairs, 100)\n",
    "    sent_pairs.extend(cur_sent_pairs)"
   ]
  },
  {
   "cell_type": "code",
   "execution_count": 11,
   "metadata": {},
   "outputs": [
    {
     "name": "stdout",
     "output_type": "stream",
     "text": [
      "670\n"
     ]
    }
   ],
   "source": [
    "print(len(sent_pairs))"
   ]
  }
 ],
 "metadata": {
  "kernelspec": {
   "display_name": "Python 3",
   "language": "python",
   "name": "python3"
  },
  "language_info": {
   "codemirror_mode": {
    "name": "ipython",
    "version": 3
   },
   "file_extension": ".py",
   "mimetype": "text/x-python",
   "name": "python",
   "nbconvert_exporter": "python",
   "pygments_lexer": "ipython3",
   "version": "3.7.5"
  }
 },
 "nbformat": 4,
 "nbformat_minor": 4
}
