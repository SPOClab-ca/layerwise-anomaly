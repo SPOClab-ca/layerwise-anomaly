{
 "cells": [
  {
   "cell_type": "markdown",
   "metadata": {},
   "source": [
    "# Word-level GMM Error Detector"
   ]
  },
  {
   "cell_type": "code",
   "execution_count": 21,
   "metadata": {},
   "outputs": [],
   "source": [
    "import sklearn.mixture\n",
    "import numpy as np\n",
    "import torch\n",
    "import sys\n",
    "sys.path.insert(0, \"../\")\n",
    "import pprint\n",
    "pp = pprint.PrettyPrinter()\n",
    "\n",
    "from scipy.stats import mannwhitneyu\n",
    "\n",
    "import matplotlib.pyplot as plt\n",
    "%matplotlib inline\n",
    "\n",
    "from utils import timed_func"
   ]
  },
  {
   "cell_type": "code",
   "execution_count": 2,
   "metadata": {},
   "outputs": [
    {
     "name": "stdout",
     "output_type": "stream",
     "text": [
      "Collected 10492 sentences\n",
      "parse_grammar_dataset done in 0.22 seconds.\n"
     ]
    }
   ],
   "source": [
    "# Load BEA sentences to train GMM\n",
    "@timed_func\n",
    "def parse_grammar_dataset():\n",
    "    m2_path = \"../data/BEA14/WI_LOCNESS/wi+locness/m2/A.train.gold.bea19.m2\"\n",
    "    with open(m2_path, \"r\") as f:\n",
    "        raw_lines = f.readlines()\n",
    "\n",
    "    data = []\n",
    "    curr_item = {}\n",
    "    for line in raw_lines:\n",
    "        if line.startswith(\"S \"):\n",
    "            if len(curr_item) > 0 and len(curr_item[\"errors\"]) > 0:\n",
    "                curr_item[\"corrected_sent\"] = _correct_sentence(curr_item)\n",
    "                data.append(curr_item)\n",
    "            curr_item = {\"sentence\": line[2:], \"errors\": []}\n",
    "        elif line.startswith(\"A \"):\n",
    "            items = line.split(\"|||\")\n",
    "            start_pos_str, end_pos_str = items[0][2:].split()\n",
    "            start_pos, end_pos = int(start_pos_str), int(end_pos_str)\n",
    "            error = {\n",
    "                \"start_pos\": start_pos,  # These are in terms of word locs\n",
    "                \"end_pos\": end_pos,\n",
    "                \"correct\": items[2] \n",
    "            }\n",
    "            curr_item[\"errors\"].append(error)\n",
    "\n",
    "    print(\"Collected {} sentences\".format(len(data)))\n",
    "    sentences = [item['sentence'] for item in data]\n",
    "    return data, sentences \n",
    "\n",
    "def _correct_sentence(item):\n",
    "    \"\"\"\n",
    "    E.g., sent is \"My town is a medium size city ...\"\n",
    "    errors is [{'start_pos': 5, 'end_pos': 6, 'correct': '- sized'}]\n",
    "    Assume errors are sorted by start_pos.\n",
    "    \"\"\"\n",
    "    sent = item['sentence']\n",
    "    L = sent.split()\n",
    "    newline = []\n",
    "    i = 0\n",
    "    for err in item['errors']:\n",
    "        if err['start_pos'] == -1:  # This sentence is correct\n",
    "            return sent\n",
    "        newline.extend(L[i:err['start_pos']])\n",
    "        newline.append(err['correct'])\n",
    "        i = err['end_pos']\n",
    "    newline.extend(L[i:])\n",
    "    return \" \".join(newline)\n",
    "    \n",
    "gec_data, gec_sentences = parse_grammar_dataset()"
   ]
  },
  {
   "cell_type": "code",
   "execution_count": 3,
   "metadata": {},
   "outputs": [
    {
     "data": {
      "text/plain": [
       "{'sentence': 'My town is a medium size city with eighty thousand inhabitants .\\n',\n",
       " 'errors': [{'start_pos': 5, 'end_pos': 6, 'correct': '- sized'}],\n",
       " 'corrected_sent': 'My town is a medium - sized city with eighty thousand inhabitants .'}"
      ]
     },
     "execution_count": 3,
     "metadata": {},
     "output_type": "execute_result"
    }
   ],
   "source": [
    "gec_data[0]"
   ]
  },
  {
   "cell_type": "code",
   "execution_count": 4,
   "metadata": {},
   "outputs": [
    {
     "data": {
      "text/plain": [
       "['I agree with your parents , maybe you could spend your money on something you really need and maybe you can buy computer games with the money you have left , or maybe you could put aside the money to buy something really important to you .',\n",
       " 'First of all , a boat travels on the sea and the sea is very beautiful .',\n",
       " 'I am so happy you have finally decided to visit my country .\\n',\n",
       " 'After the exams finished , I went home and had nothing to do , so I thought that I needed to watch my dramas because it was a week since I had watched them due to the exam week .',\n",
       " 'Washing you enjoy it .',\n",
       " \"They 're more for self - defense , but  what I do , and my way to stay healthy , is martial arts and running .\",\n",
       " 'We were very happy there . We really liked Taxco .',\n",
       " 'The future of transport is  public , because there will be less traffic .',\n",
       " 'I am writing to apply for the job of camp organizer .\\n',\n",
       " \"Hi Alex , I ca n't wait   to see you\"]"
      ]
     },
     "execution_count": 4,
     "metadata": {},
     "output_type": "execute_result"
    }
   ],
   "source": [
    "gec_samples = np.random.choice(gec_data, 1000)\n",
    "gec_correct_sentences_train = [item['corrected_sent'] for item in gec_samples[:500]]\n",
    "gec_correct_sentences_train[:10]"
   ]
  },
  {
   "cell_type": "markdown",
   "metadata": {},
   "source": [
    "## Word-level encoder"
   ]
  },
  {
   "cell_type": "code",
   "execution_count": 5,
   "metadata": {},
   "outputs": [],
   "source": [
    "from transformers import AutoTokenizer, AutoModel\n",
    "model_name = 'roberta-base'\n",
    "tokenizer = AutoTokenizer.from_pretrained(model_name)\n",
    "model = AutoModel.from_pretrained(model_name)"
   ]
  },
  {
   "cell_type": "code",
   "execution_count": 6,
   "metadata": {},
   "outputs": [
    {
     "data": {
      "text/plain": [
       "['An',\n",
       " 'Ġideal',\n",
       " 'istic',\n",
       " 'Ġopportunity',\n",
       " 'Ġdoes',\n",
       " 'Ġn',\n",
       " \"'t\",\n",
       " 'Ġalways',\n",
       " 'Ġlead',\n",
       " 'Ġto',\n",
       " 'Ġsuccess',\n",
       " '.']"
      ]
     },
     "execution_count": 6,
     "metadata": {},
     "output_type": "execute_result"
    }
   ],
   "source": [
    "#sent = \"An apple a day keeps the doctors away\"\n",
    "sent = \"An idealistic opportunity does n't always lead to success.\"\n",
    "tokens = tokenizer.tokenize(sent)\n",
    "tokens"
   ]
  },
  {
   "cell_type": "code",
   "execution_count": 7,
   "metadata": {},
   "outputs": [],
   "source": [
    "class SentEncoder:\n",
    "    def __init__(self, model_name='roberta-base'):\n",
    "        self.model_name = model_name\n",
    "        self.auto_tokenizer = AutoTokenizer.from_pretrained(model_name)\n",
    "        self.auto_model = AutoModel.from_pretrained(model_name)\n",
    "\n",
    "    def encode_vecs_per_word(self, sent, include_sos_eos=False):\n",
    "        \"\"\"\n",
    "        Input: sent (str)\n",
    "        Output: \n",
    "            tokens: list (n_words + 2) of str\n",
    "            all_hids: torch.tensor (n_words + 2, 13, D), where \n",
    "                the additional 2 tokens are <s> and </s> that RoBERTa adds.\n",
    "        \"\"\"\n",
    "        tokens = self.auto_tokenizer.tokenize(sent)\n",
    "        start_of_word_positions = np.array(\n",
    "            [i for i in range(len(tokens)) if tokens[i].startswith(\"Ġ\") or i==0]\n",
    "        )  \n",
    "        word_tokens, start_of_word_positions = ['<s>'], []\n",
    "        wt_buffer = []\n",
    "        for i, t in enumerate(tokens):\n",
    "            if i == 0:\n",
    "                wt_buffer = [t]\n",
    "                start_of_word_positions.append(i)\n",
    "            elif t.startswith(\"Ġ\"):\n",
    "                # This is RoBERTa-specific\n",
    "                # Except for the first word, all tokens that are start of words\n",
    "                # are marked with a \"Ġ\".\n",
    "                word_tokens.append(\"\".join(wt_buffer))\n",
    "                start_of_word_positions.append(i)\n",
    "                wt_buffer = [t[1:]]\n",
    "            else:\n",
    "                wt_buffer.append(t)\n",
    "        word_tokens.append(\"\".join(wt_buffer))\n",
    "        word_tokens.append('</s>')\n",
    "        start_of_word_positions = 1 + np.array(start_of_word_positions)\n",
    "        \n",
    "        ids = torch.tensor(self.auto_tokenizer.encode(sent)).unsqueeze(0)\n",
    "        final, last, hids = self.auto_model(ids, output_hidden_states=True)\n",
    "        # hids is List (len 13) of torch.tensor (bsz=1, token_len+2, D)\n",
    "\n",
    "        all_hids = []\n",
    "        for layer in range(len(hids)):\n",
    "            layer_hids = []\n",
    "            \n",
    "            i = 0\n",
    "            for pos in start_of_word_positions.tolist() + [len(hids[0][0])]:\n",
    "                vecs = torch.mean(hids[layer][0:1, i:pos,:], dim=1)\n",
    "                layer_hids.append(vecs)\n",
    "                i = pos\n",
    "            layer_hids.append(hids[layer][0:1, -1, :])\n",
    "            \n",
    "            lh = torch.cat(layer_hids, dim=0).unsqueeze(0)\n",
    "            all_hids.append(lh)\n",
    "            \n",
    "        all_hids = torch.cat(all_hids, dim=0).permute([1, 0, 2])\n",
    "        if not include_sos_eos:\n",
    "            return word_tokens[1:-1], all_hids[1:-1, :, :]\n",
    "        else:\n",
    "            return word_tokens, all_hids\n",
    "    \n",
    "    def contextual_token_vecs(self, sentences):\n",
    "        \"\"\"Returns: (similar shapes as src.sent_encoder.SentEncoder)\n",
    "        ret_tokens: List[List[tokens]] one list for each sentence.\n",
    "        ret_hids: List (len n. sentences) [np.array(n_words, 13, D=768)]\n",
    "        \"\"\"\n",
    "        ret_tokens, ret_hids = [], []\n",
    "        for sent in sentences:\n",
    "            tokens, hids = self.encode_vecs_per_word(sent)\n",
    "            ret_tokens.append(tokens)\n",
    "            ret_hids.append(hids.detach().cpu().numpy())\n",
    "        return ret_tokens, ret_hids\n",
    "    "
   ]
  },
  {
   "cell_type": "markdown",
   "metadata": {},
   "source": [
    "## Word-level grammar errors\n",
    "\n",
    "Look at the locations where scores are the most extraordinary\n",
    "(Let me do a token-level correlation)  \n",
    "E.g.: One sentence has 5 tokens with grammar errors: at pos 1,2,3,5,4  \n",
    "(1) The top 5 positions ranked by GMM surprisal scores, are 1,2,3,5,6  \n",
    "Then the \"token-level detection\" accuracy would be 80%.  \n",
    "(2) Is there a \"threshold\" for the GMM surprisal scores?"
   ]
  },
  {
   "cell_type": "code",
   "execution_count": 8,
   "metadata": {},
   "outputs": [],
   "source": [
    "enc = SentEncoder()"
   ]
  },
  {
   "cell_type": "code",
   "execution_count": 9,
   "metadata": {},
   "outputs": [
    {
     "name": "stdout",
     "output_type": "stream",
     "text": [
      "6 ['An', 'idealistic', 'opportunity', 'does', \"n't\", 'work.']\n"
     ]
    },
    {
     "data": {
      "text/plain": [
       "torch.Size([6, 13, 768])"
      ]
     },
     "execution_count": 9,
     "metadata": {},
     "output_type": "execute_result"
    }
   ],
   "source": [
    "#test_sent = \"My town is a medium size city with eighty thousand inhabitants .\\n\"\n",
    "test_sent = \"An idealistic opportunity does n't work.\"\n",
    "raw_tokens, vecs = enc.encode_vecs_per_word(test_sent)\n",
    "print(len(raw_tokens), raw_tokens)\n",
    "vecs.shape"
   ]
  },
  {
   "cell_type": "code",
   "execution_count": 10,
   "metadata": {},
   "outputs": [],
   "source": [
    "class AnomalyModel:\n",
    "    \"\"\"Model that uses GMM on embeddings generated by BERT for finding syntactic\n",
    "    or semantic anomalies.\n",
    "    \"\"\"\n",
    "\n",
    "    def __init__(self, train_sentences):\n",
    "        self.enc = SentEncoder()\n",
    "        self.gmms = []\n",
    "\n",
    "        _, all_vecs = self.enc.contextual_token_vecs(train_sentences)\n",
    "        for layer in range(13):\n",
    "            sent_vecs = np.vstack([vs[:,layer,:] for vs in all_vecs])\n",
    "            gmm = sklearn.mixture.GaussianMixture()\n",
    "            gmm.fit(sent_vecs)\n",
    "            self.gmms.append(gmm)\n",
    "\n",
    "\n",
    "    def gmm_score(self, sentences):\n",
    "        \"\"\"Returns (all_tokens, all_scores), where\n",
    "        all_tokens is List[List[token]]\n",
    "        all_scores is List[np.array(num layers, |S|)]\n",
    "        \"\"\"\n",
    "\n",
    "        all_tokens, all_vecs = self.enc.contextual_token_vecs(sentences)\n",
    "        all_scores = []\n",
    "\n",
    "        for sent_ix in range(len(sentences)):\n",
    "            tokens = all_tokens[sent_ix]\n",
    "            vecs = all_vecs[sent_ix]\n",
    "            assert len(tokens) == vecs.shape[0]\n",
    "\n",
    "            layer_scores = []\n",
    "            for layer in range(13):\n",
    "                scores = self.gmms[layer].score_samples(vecs[:, layer, :])\n",
    "                layer_scores.append(scores)\n",
    "\n",
    "            all_scores.append(np.array(layer_scores))\n",
    "        return all_tokens, all_scores"
   ]
  },
  {
   "cell_type": "code",
   "execution_count": 11,
   "metadata": {},
   "outputs": [],
   "source": [
    "anomaly_model = AnomalyModel(gec_correct_sentences_train)"
   ]
  },
  {
   "cell_type": "code",
   "execution_count": 12,
   "metadata": {},
   "outputs": [],
   "source": [
    "test_samples = gec_samples[500:510]\n",
    "test_sentences = [item['sentence'] for item in test_samples]\n",
    "all_tokens, gmm_scores = anomaly_model.gmm_score(test_sentences)"
   ]
  },
  {
   "cell_type": "code",
   "execution_count": 13,
   "metadata": {},
   "outputs": [],
   "source": [
    "def all_layer_scores(sample):\n",
    "    sent = sample['sentence']\n",
    "    pp.pprint(sample)\n",
    "    tokens, all_layer = anomaly_model.gmm_score([sent])\n",
    "    tokens = tokens[0]\n",
    "    all_layer = all_layer[0]\n",
    "    plt.figure(figsize=(8, 8))\n",
    "    plt.imshow(all_layer, origin='lower')\n",
    "    plt.xticks(range(len(tokens)), tokens, rotation='vertical')\n",
    "    plt.yticks(range(12), range(12))\n",
    "    plt.ylabel('Layer')\n",
    "    plt.show()"
   ]
  },
  {
   "cell_type": "code",
   "execution_count": 14,
   "metadata": {},
   "outputs": [
    {
     "name": "stdout",
     "output_type": "stream",
     "text": [
      "{'corrected_sent': 'transport in Sudan is so expensive . We suffer from the '\n",
      "                   'less and expensive transport here .',\n",
      " 'errors': [{'correct': 'in', 'end_pos': 2, 'start_pos': 1},\n",
      "            {'correct': '. We', 'end_pos': 7, 'start_pos': 6}],\n",
      " 'sentence': 'transport at Sudan is so expensive we suffer from the less and '\n",
      "             'expensive transport here .\\n'}\n"
     ]
    },
    {
     "data": {
      "image/png": "[encoded data removed]",
      "text/plain": [
       "<Figure size 576x576 with 1 Axes>"
      ]
     },
     "metadata": {
      "needs_background": "light"
     },
     "output_type": "display_data"
    }
   ],
   "source": [
    "all_layer_scores(test_samples[0])"
   ]
  },
  {
   "cell_type": "code",
   "execution_count": 15,
   "metadata": {},
   "outputs": [
    {
     "name": "stdout",
     "output_type": "stream",
     "text": [
      "Among 1000 samples, 1000 (100.00%) have matched lens from two methods.\n",
      "verify_lengths done in 129.23 seconds.\n"
     ]
    }
   ],
   "source": [
    "@timed_func\n",
    "def verify_lengths(samples):\n",
    "    test_sentences = [item['sentence'] for item in samples]\n",
    "    all_tokens, gmm_scores = anomaly_model.gmm_score(test_sentences)\n",
    "    # Verify if the token lengths match sample sentence lengths\n",
    "\n",
    "    equal = 0\n",
    "    for i, sample in enumerate(samples):\n",
    "        tr_word_len = len(all_tokens[i])  # Given by transformers\n",
    "        st_word_len = len(test_sentences[i].split())  # Input sentence\n",
    "        if tr_word_len == st_word_len:\n",
    "            equal += 1\n",
    "        #print(\"\\ntr: {}, st: {}\".format(tr_word_len, st_word_len))\n",
    "        #print(\"tr: {}, st: {}\".format(all_tokens[i], test_sentences[i].split()))\n",
    "    print(\"Among {} samples, {} ({:.2f}%) have matched lens from two methods.\".format(\n",
    "        len(samples), equal, equal / len(samples) * 100\n",
    "    ))\n",
    "    \n",
    "verify_lengths(gec_samples)"
   ]
  },
  {
   "cell_type": "code",
   "execution_count": 26,
   "metadata": {},
   "outputs": [
    {
     "name": "stdout",
     "output_type": "stream",
     "text": [
      "=====Layer 0=====\n",
      "Correct words (total 7617): avg score: 234.68, std 625.88\n",
      "Incorrect words (total 1402): avg score: 10.98, std 732.24\n",
      "Mann Whitney U test: p=2.427541425815511e-26. Different distributions.\n",
      "=====Layer 1=====\n",
      "Correct words (total 7617): avg score: -126.04, std 357.21\n",
      "Incorrect words (total 1402): avg score: -252.05, std 393.95\n",
      "Mann Whitney U test: p=3.214187967009049e-33. Different distributions.\n",
      "=====Layer 2=====\n",
      "Correct words (total 7617): avg score: -163.72, std 264.42\n",
      "Incorrect words (total 1402): avg score: -254.97, std 265.19\n",
      "Mann Whitney U test: p=4.902447826084232e-37. Different distributions.\n",
      "=====Layer 3=====\n",
      "Correct words (total 7617): avg score: -145.88, std 214.49\n",
      "Incorrect words (total 1402): avg score: -231.61, std 197.12\n",
      "Mann Whitney U test: p=5.1862277392489386e-52. Different distributions.\n",
      "=====Layer 4=====\n",
      "Correct words (total 7617): avg score: -144.94, std 206.44\n",
      "Incorrect words (total 1402): avg score: -226.60, std 175.94\n",
      "Mann Whitney U test: p=1.6679995616837905e-55. Different distributions.\n",
      "=====Layer 5=====\n",
      "Correct words (total 7617): avg score: -203.12, std 199.78\n",
      "Incorrect words (total 1402): avg score: -294.09, std 170.80\n",
      "Mann Whitney U test: p=3.217257322741108e-69. Different distributions.\n",
      "=====Layer 6=====\n",
      "Correct words (total 7617): avg score: -188.45, std 191.42\n",
      "Incorrect words (total 1402): avg score: -275.89, std 166.27\n",
      "Mann Whitney U test: p=5.567940460930247e-68. Different distributions.\n",
      "=====Layer 7=====\n",
      "Correct words (total 7617): avg score: -200.51, std 182.75\n",
      "Incorrect words (total 1402): avg score: -283.17, std 158.39\n",
      "Mann Whitney U test: p=5.491516063127831e-68. Different distributions.\n",
      "=====Layer 8=====\n",
      "Correct words (total 7617): avg score: -229.04, std 176.49\n",
      "Incorrect words (total 1402): avg score: -303.31, std 153.40\n",
      "Mann Whitney U test: p=1.5985371652362302e-58. Different distributions.\n",
      "=====Layer 9=====\n",
      "Correct words (total 7617): avg score: -252.06, std 188.60\n",
      "Incorrect words (total 1402): avg score: -337.66, std 171.71\n",
      "Mann Whitney U test: p=2.6782486211590454e-65. Different distributions.\n",
      "=====Layer 10=====\n",
      "Correct words (total 7617): avg score: -202.75, std 205.37\n",
      "Incorrect words (total 1402): avg score: -332.59, std 224.99\n",
      "Mann Whitney U test: p=3.361997331419623e-99. Different distributions.\n",
      "=====Layer 11=====\n",
      "Correct words (total 7617): avg score: -121.82, std 203.90\n",
      "Incorrect words (total 1402): avg score: -267.44, std 259.14\n",
      "Mann Whitney U test: p=8.844126839343168e-108. Different distributions.\n",
      "=====Layer 12=====\n",
      "Correct words (total 7617): avg score: 554.40, std 233.58\n",
      "Incorrect words (total 1402): avg score: 484.81, std 260.40\n",
      "Mann Whitney U test: p=2.6748857071849844e-31. Different distributions.\n",
      "true_false_bin done in 45.79 seconds.\n"
     ]
    }
   ],
   "source": [
    "@timed_func\n",
    "def true_false_bin(samples):\n",
    "    test_sentences = [item['sentence'] for item in samples]\n",
    "    all_tokens, gmm_scores = anomaly_model.gmm_score(test_sentences)\n",
    "    \n",
    "    for layer in range(13):\n",
    "        print (\"=====Layer {}=====\".format(layer))\n",
    "        scores_correct, scores_typo = [], []\n",
    "        for i, sample in enumerate(samples):\n",
    "            if sample['errors'][0]['start_pos'] == -1:  # This sentence is correct\n",
    "                scores_correct += gmm_scores[i][layer].tolist()\n",
    "            else:\n",
    "                # These T/F sentinels mark the errors of this sentence\n",
    "                st_word_len = len(test_sentences[i].split())\n",
    "                tr_word_len = len(all_tokens[i])\n",
    "                assert tr_word_len == st_word_len  # Verified in verify_lengths. Safety check here\n",
    "                \n",
    "                sentinels = np.ones(st_word_len)\n",
    "                for gerr in sample['errors']:\n",
    "                    sentinels[gerr['start_pos']: gerr['end_pos']] = 0  # broadcast\n",
    "                \n",
    "                for j in range(len(sentinels)):\n",
    "                    if sentinels[j]:\n",
    "                        scores_correct.append(gmm_scores[i][layer,j])\n",
    "                    else:\n",
    "                        scores_typo.append(gmm_scores[i][layer,j])\n",
    "        print (\"Correct words (total {}): avg score: {:.2f}, std {:.2f}\".format(\n",
    "            len(scores_correct),\n",
    "            np.mean(scores_correct), np.std(scores_correct)\n",
    "        ))\n",
    "        print (\"Incorrect words (total {}): avg score: {:.2f}, std {:.2f}\".format(\n",
    "            len(scores_typo),\n",
    "            np.mean(scores_typo), np.std(scores_typo)\n",
    "        ))\n",
    "        stat, p = mannwhitneyu(scores_correct, scores_typo)\n",
    "        # https://machinelearningmastery.com/statistical-hypothesis-tests-in-python-cheat-sheet/\n",
    "        # Non-normal for both arrays\n",
    "        u_test_res = \"Same\" if p>0.05 else \"Different\"\n",
    "        print (\"Mann Whitney U test: p={}. {} distributions.\".format(p, u_test_res))\n",
    "        \n",
    "true_false_bin(gec_samples[500:])"
   ]
  },
  {
   "cell_type": "markdown",
   "metadata": {},
   "source": [
    "## Observations up till now:  \n",
    "1. There are separations between the GMM scores for \"correct words\" and \"incorrect words\".  \n",
    "2. Except for layer 12, the `p` values in general decrease as layers go up. This might indicate that higher layers are more surprised at grammar errors.  \n",
    "3. The large std indicate that there might not be a clear-cut threshold, for us to say \"when the surprisal score is beyond / below this threshold, this is grammar error\".  "
   ]
  },
  {
   "cell_type": "markdown",
   "metadata": {},
   "source": [
    "## Word-level grammar error detection\n",
    "- Can we tune on dev set to find a threshold?  \n",
    "- Use this performance to contrast to the next step (residualization)"
   ]
  },
  {
   "cell_type": "code",
   "execution_count": 27,
   "metadata": {},
   "outputs": [],
   "source": [
    "@timed_func\n",
    "def find_threshold(samples):\n",
    "    test_sentences = [item['sentence'] for item in samples]\n",
    "    all_tokens, gmm_scores = anomaly_model.gmm_score(test_sentences)\n",
    "    \n",
    "    # TODO - find threshold on gec_dev (TODO)"
   ]
  },
  {
   "cell_type": "markdown",
   "metadata": {},
   "source": [
    "## Word-level grammar error detection with residualization"
   ]
  },
  {
   "cell_type": "code",
   "execution_count": null,
   "metadata": {},
   "outputs": [],
   "source": [
    "@timed_func\n",
    "def ged_with_residualization(samples):\n",
    "    raise NotImplemented"
   ]
  },
  {
   "cell_type": "code",
   "execution_count": null,
   "metadata": {},
   "outputs": [],
   "source": []
  },
  {
   "cell_type": "code",
   "execution_count": null,
   "metadata": {},
   "outputs": [],
   "source": []
  }
 ],
 "metadata": {
  "kernelspec": {
   "display_name": "Python 3",
   "language": "python",
   "name": "python3"
  },
  "language_info": {
   "codemirror_mode": {
    "name": "ipython",
    "version": 3
   },
   "file_extension": ".py",
   "mimetype": "text/x-python",
   "name": "python",
   "nbconvert_exporter": "python",
   "pygments_lexer": "ipython3",
   "version": "3.7.7"
  }
 },
 "nbformat": 4,
 "nbformat_minor": 4
}
