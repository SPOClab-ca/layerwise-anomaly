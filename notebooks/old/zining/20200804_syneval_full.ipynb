{
 "cells": [
  {
   "cell_type": "markdown",
   "metadata": {},
   "source": [
    "## LM_SynEval full dataset\n",
    "I shifted the embedding procedure to Vector cluster. The tensors (including the PCA model) are saved at `scripts/0804_run_syneval/0804_embedded`"
   ]
  },
  {
   "cell_type": "code",
   "execution_count": 1,
   "metadata": {},
   "outputs": [],
   "source": [
    "import numpy as np\n",
    "import os, sys, time\n",
    "import pickle\n",
    "import torch\n",
    "import matplotlib.pyplot as plt\n",
    "%matplotlib inline\n",
    "import seaborn as sns\n",
    "import sklearn\n",
    "from sklearn.decomposition import PCA\n",
    "from sklearn.cluster import KMeans\n",
    "\n",
    "from utils import timed_func"
   ]
  },
  {
   "cell_type": "code",
   "execution_count": 2,
   "metadata": {},
   "outputs": [
    {
     "name": "stdout",
     "output_type": "stream",
     "text": [
      "load_data done in 0.10 seconds.\n"
     ]
    }
   ],
   "source": [
    "embedded_dir = \"../scripts/0804_run_syneval/0804_embedded\"\n",
    "\n",
    "@timed_func\n",
    "def load_data():\n",
    "    with open(os.path.join(embedded_dir, \"pcamodel.pkl\"), \"rb\") as f:\n",
    "        pca = pickle.load(f)\n",
    "\n",
    "    all_diff_vecs = {}\n",
    "    for fname in os.listdir(embedded_dir):\n",
    "        if fname.startswith(\"pca\"):\n",
    "            continue\n",
    "        else:\n",
    "            with open(os.path.join(embedded_dir, fname), \"rb\") as f:\n",
    "                diff_vecs = pickle.load(f)\n",
    "            name = fname[:-4]  # e.g., \"vp_coord\"\n",
    "            all_diff_vecs[name] = diff_vecs\n",
    "            \n",
    "    return pca, all_diff_vecs\n",
    "\n",
    "pca, all_diff_vecs = load_data()"
   ]
  },
  {
   "cell_type": "code",
   "execution_count": 3,
   "metadata": {},
   "outputs": [
    {
     "data": {
      "text/plain": [
       "dict_keys(['long_vp_coord', 'npi_across_anim', 'npi_across_inanim', 'simple_agrmt', 'simple_npi_anim', 'simple_npi_inanim', 'simple_reflexives', 'vp_coord'])"
      ]
     },
     "execution_count": 3,
     "metadata": {},
     "output_type": "execute_result"
    }
   ],
   "source": [
    "all_diff_vecs.keys()"
   ]
  },
  {
   "cell_type": "code",
   "execution_count": 4,
   "metadata": {},
   "outputs": [],
   "source": [
    "all_diff_vecs['vp_coord'].shape\n",
    "name = \"vp_coord\""
   ]
  },
  {
   "cell_type": "code",
   "execution_count": 5,
   "metadata": {},
   "outputs": [
    {
     "data": {
      "text/plain": [
       "Text(0.5, 1.0, 'KDE of PCA of 2-class SynEval sets')"
      ]
     },
     "execution_count": 5,
     "metadata": {},
     "output_type": "execute_result"
    },
    {
     "data": {
      "image/png": "[encoded data removed]",
      "text/plain": [
       "<Figure size 432x288 with 1 Axes>"
      ]
     },
     "metadata": {
      "needs_background": "light"
     },
     "output_type": "display_data"
    }
   ],
   "source": [
    "fig = plt.figure()\n",
    "for name in all_diff_vecs:\n",
    "    X = all_diff_vecs[name].numpy()\n",
    "    z = pca.transform(X)\n",
    "    sns.kdeplot(z[:, 0], z[:, 1], shade=True, shade_lowest=False, label=name)\n",
    "plt.legend(loc=\"right\", bbox_to_anchor=(1.4, 0.5))\n",
    "plt.title(\"KDE of PCA of 2-class SynEval sets\")"
   ]
  },
  {
   "cell_type": "markdown",
   "metadata": {},
   "source": [
    "## Cluster Analysis\n",
    "In high dimensional space (i.e., no PCA), see how well a k-means alg can cluster the points"
   ]
  },
  {
   "cell_type": "code",
   "execution_count": 6,
   "metadata": {},
   "outputs": [
    {
     "name": "stdout",
     "output_type": "stream",
     "text": [
      "Purity: 0.8097\n"
     ]
    }
   ],
   "source": [
    "def purity_score(y_true, y_pred):\n",
    "    # https://stackoverflow.com/a/51672699/4012272\n",
    "    # compute contingency matrix (also called confusion matrix)\n",
    "    contingency_matrix = sklearn.metrics.cluster.contingency_matrix(y_true, y_pred)\n",
    "    return np.sum(np.amax(contingency_matrix, axis=0)) / np.sum(contingency_matrix)\n",
    "\n",
    "def kmeans_cluster(all_diff_vecs):\n",
    "    name_indices = [n for n in all_diff_vecs]\n",
    "    X = []\n",
    "    Ylabel = []\n",
    "    for n in all_diff_vecs:\n",
    "        X.append(all_diff_vecs[n])\n",
    "        Ylabel.extend([name_indices.index(n)]*len(all_diff_vecs[n]))\n",
    "        \n",
    "    X = np.vstack([all_diff_vecs[n] for n in all_diff_vecs])\n",
    "    kmeans = KMeans(n_clusters=len(all_diff_vecs), random_state=0)\n",
    "    kmeans.fit(X)\n",
    "    Ypred = kmeans.predict(X)  # 1-d array\n",
    "    \n",
    "    # Measure cluster quality\n",
    "    purity = purity_score(Ylabel, Ypred)\n",
    "    print(\"Purity: {:.4f}\".format(purity))\n",
    "    \n",
    "kmeans_cluster(all_diff_vecs)"
   ]
  },
  {
   "cell_type": "markdown",
   "metadata": {},
   "source": [
    "## Interpretation\n",
    "Among the categories with two \"tenses\", there seem to be two large clusters:  \n",
    "- `npi_across_anim`, `npi_across_inanim`, `simple_npi_anim`, `simple_npi_inanim`. The diff are pointing from \"past\" to \"future\" (i.e., two tenses are \"past\" and \"future\").  \n",
    "- `simple_reflexives`, `vp_coord`, `long_vp_coord`, `simple_agrmt`. The two tenses are \"singular\" and \"plural\".  \n",
    "\n",
    "There is evidence of large disentanglements between \"time vector\" and \"number vector\", but less disentanglements within each category (purity is low).  "
   ]
  },
  {
   "cell_type": "code",
   "execution_count": 7,
   "metadata": {},
   "outputs": [
    {
     "name": "stdout",
     "output_type": "stream",
     "text": [
      "Clustering of these two sets should have very high purity\n",
      "Purity: 1.0000\n",
      "Clustering within these two sets should have lower purity\n",
      "data_past2future:\n",
      "Purity: 0.8119\n",
      "data_sing2plural:\n",
      "Purity: 0.9157\n"
     ]
    }
   ],
   "source": [
    "print (\"Clustering of these two sets should have very high purity\")\n",
    "set1 = [\"npi_across_anim\", \"npi_across_inanim\", \"simple_npi_anim\", \"simple_npi_inanim\"]\n",
    "set2 = [\"simple_reflexives\", \"vp_coord\", \"long_vp_coord\", \"simple_agrmt\"]\n",
    "data_2classes = {\n",
    "    \"past2future\": np.vstack([all_diff_vecs[n] for n in set1]),\n",
    "    \"sing2plural\": np.vstack([all_diff_vecs[n] for n in set2])\n",
    "}\n",
    "kmeans_cluster(data_2classes)\n",
    "\n",
    "print (\"Clustering within these two sets should have lower purity\")\n",
    "data_past2future = {}\n",
    "for n in set1:\n",
    "    data_past2future[n] = all_diff_vecs[n]\n",
    "print (\"data_past2future:\")\n",
    "kmeans_cluster(data_past2future)\n",
    "data_sing2plural = {}\n",
    "for n in set2:\n",
    "    data_sing2plural[n] = all_diff_vecs[n]\n",
    "print (\"data_sing2plural:\")\n",
    "kmeans_cluster(data_sing2plural)"
   ]
  },
  {
   "cell_type": "code",
   "execution_count": null,
   "metadata": {},
   "outputs": [],
   "source": []
  }
 ],
 "metadata": {
  "kernelspec": {
   "display_name": "Python 3",
   "language": "python",
   "name": "python3"
  },
  "language_info": {
   "codemirror_mode": {
    "name": "ipython",
    "version": 3
   },
   "file_extension": ".py",
   "mimetype": "text/x-python",
   "name": "python",
   "nbconvert_exporter": "python",
   "pygments_lexer": "ipython3",
   "version": "3.7.6"
  }
 },
 "nbformat": 4,
 "nbformat_minor": 4
}
