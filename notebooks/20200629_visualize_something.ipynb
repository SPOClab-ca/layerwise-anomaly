{
 "cells": [
  {
   "cell_type": "markdown",
   "metadata": {},
   "source": [
    "# Visualize something\n",
    "Hypothesis: contextualized LMs encode syntax and semantics in different subspaces.  \n",
    "For this notebook: check the (scalar / vector) distance of these pairs:  \n",
    "- The factor of tense (syntax category). emb(\"I have eaten\") - emb(\"I am eating\")  \n",
    "- The factor of subject (semantic category). emb(\"I think this is true\") - emb(\"The professor thinks this is true\")  \n",
    "- The factor of discourse (pragmatics category). emb(\"This tweet involves racism\") - emb(\"Although I highly respect Yann, this tweet involves racism\")"
   ]
  },
  {
   "cell_type": "code",
   "execution_count": 1,
   "metadata": {},
   "outputs": [
    {
     "name": "stdout",
     "output_type": "stream",
     "text": [
      "The history saving thread hit an unexpected error (DatabaseError('database disk image is malformed')).History will not be written to the database.\n"
     ]
    }
   ],
   "source": [
    "from transformers import BertTokenizer, BertModel\n",
    "import torch\n",
    "import numpy as np\n",
    "import os, sys, time, re\n",
    "import matplotlib.pyplot as plt\n",
    "from matplotlib import colors as mcolors\n",
    "colors = dict(mcolors.BASE_COLORS, **mcolors.CSS4_COLORS)\n",
    "%matplotlib inline\n",
    "import sklearn\n",
    "from sklearn.decomposition import PCA\n",
    "from sklearn.metrics.pairwise import cosine_similarity"
   ]
  },
  {
   "cell_type": "code",
   "execution_count": 2,
   "metadata": {},
   "outputs": [],
   "source": [
    "bert_tokenizer = BertTokenizer.from_pretrained('bert-base-cased')\n",
    "bert_model = BertModel.from_pretrained('bert-base-cased', output_hidden_states=False)\n",
    "\n",
    "def evaluate_contextual_diff(pair):\n",
    "    source, target = pair[0], pair[1]\n",
    "    src_ids = torch.tensor(bert_tokenizer.encode(source)).unsqueeze(0)\n",
    "    src_vec = bert_model(src_ids)[0].mean(dim=1)[0]  # (768,) torch.tensor\n",
    "    \n",
    "    tgt_ids = torch.tensor(bert_tokenizer.encode(target)).unsqueeze(0)\n",
    "    tgt_vec = bert_model(tgt_ids)[0].mean(dim=1)[0]\n",
    "    \n",
    "    d_emb = len(src_vec)  # 768\n",
    "    diff = src_vec - tgt_vec\n",
    "    return diff  # 768-dimensional torch.tensor"
   ]
  },
  {
   "cell_type": "code",
   "execution_count": 3,
   "metadata": {},
   "outputs": [],
   "source": [
    "pairs_past_to_present = [\n",
    "    (\"I have eaten.\", \"I am eating.\"),\n",
    "    (\"He has eaten.\", \"He eats.\"),\n",
    "    (\"We went to school.\", \"We go to school.\"),\n",
    "    (\"Mary wrote a blog.\", \"Mary is writing a blog.\"),\n",
    "    (\"The classrooms were clean.\", \"The classrooms are clean.\")\n",
    "]\n",
    "\n",
    "pairs_vary_subject = [\n",
    "    (\"I read.\", \"He reads.\"),\n",
    "    (\"I was doing projects.\", \"She was doing projects.\"),\n",
    "    (\"Donald will drink water tomorrow.\", \"Joe will drink water tomorrow.\"),\n",
    "    (\"We are preparing dinner.\", \"You are preparing dinner.\"),\n",
    "    (\"You should eat an apple a day. This is beneficial for your health.\", \"Tom should eat an apple a day. This is beneficial for his health.\")\n",
    "]\n",
    "\n",
    "pairs_add_concession = [\n",
    "    (\"This involves racism\", \"Although I respect his work, his tweet involves racism.\"),\n",
    "    (\"You failed your exam\", \"Although you tried hard, you failed your exam.\"),\n",
    "    (\"Your ideas are fake\", \"Your reasoning is valid, but your ideas are fake.\"),\n",
    "    (\"Bubble tea is unhealthy\", \"Bubble tea is delicious, but they are unhealthy.\"),\n",
    "    (\"This kid does not do well in the exam.\", \"This kid is smart, but he does not do well in the exam.\")\n",
    "]\n",
    "\n",
    "vecs_time = torch.stack([evaluate_contextual_diff(pair) for pair in pairs_past_to_present])\n",
    "vecs_subject = torch.stack([evaluate_contextual_diff(pair) for pair in pairs_vary_subject])\n",
    "vecs_concess = torch.stack([evaluate_contextual_diff(pair) for pair in pairs_add_concession])"
   ]
  },
  {
   "cell_type": "code",
   "execution_count": 4,
   "metadata": {},
   "outputs": [],
   "source": [
    "def pca_embed(vecs):\n",
    "    pca = PCA(n_components=2)\n",
    "    return pca.fit_transform(vecs.detach().numpy())"
   ]
  },
  {
   "cell_type": "code",
   "execution_count": 5,
   "metadata": {},
   "outputs": [
    {
     "data": {
      "image/png": "[encoded data removed]",
      "text/plain": [
       "<Figure size 864x576 with 1 Axes>"
      ]
     },
     "metadata": {
      "needs_background": "light"
     },
     "output_type": "display_data"
    }
   ],
   "source": [
    "def make_plot(collections, names):\n",
    "    fig = plt.figure(figsize=(12, 8))\n",
    "    ax = fig.add_subplot(111)\n",
    "    \n",
    "    palette = [colors[\"red\"], colors[\"blue\"], colors[\"green\"], colors[\"purple\"]][:len(names)]\n",
    "    for i, pairs in enumerate(collections):\n",
    "        vecs = torch.stack([evaluate_contextual_diff(pair) for pair in pairs])\n",
    "        z = pca_embed(vecs)  # (n_pt, 2)\n",
    "        ax.plot(z[:, 0], z[:, 1], \"o\", c=palette[i], markersize=10, label=names[i])\n",
    "        \n",
    "    ax.axes.xaxis.set_visible(False)\n",
    "    ax.axes.yaxis.set_visible(False)\n",
    "    plt.legend()\n",
    "    plt.title('PCA visualization')\n",
    "    plt.show()\n",
    "    \n",
    "collections = [pairs_past_to_present, pairs_vary_subject, pairs_add_concession]\n",
    "names = [\"Past to present\", \"Vary subject\", \"Add concession\"]\n",
    "make_plot(collections, names)"
   ]
  },
  {
   "cell_type": "markdown",
   "metadata": {},
   "source": [
    "They are not very separable from 2D visualization. Let me see if I can compute their directionality."
   ]
  },
  {
   "cell_type": "code",
   "execution_count": 6,
   "metadata": {},
   "outputs": [
    {
     "name": "stdout",
     "output_type": "stream",
     "text": [
      "Time vs Subject:\t0.20844\n",
      "Time vs Concession:\t-0.11634992\n",
      "Subject vs Concession:\t-0.10156865\n"
     ]
    }
   ],
   "source": [
    "# If cosine similarity is close to 0, the two vectors are more orthogonal.\n",
    "def check_orthogonality(vecs1, vecs2):\n",
    "    v1 = vecs1.mean(dim=0).detach().numpy()\n",
    "    v2 = vecs2.mean(dim=0).detach().numpy()\n",
    "    return cosine_similarity([v1], [v2])[0][0]\n",
    "\n",
    "print (\"Time vs Subject:\", end=\"\\t\")\n",
    "print(check_orthogonality(vecs_time, vecs_subject))\n",
    "print (\"Time vs Concession:\", end=\"\\t\")\n",
    "print (check_orthogonality(vecs_time, vecs_concess))\n",
    "print (\"Subject vs Concession:\", end=\"\\t\")\n",
    "print (check_orthogonality(vecs_subject, vecs_concess))"
   ]
  },
  {
   "cell_type": "code",
   "execution_count": null,
   "metadata": {},
   "outputs": [],
   "source": []
  }
 ],
 "metadata": {
  "kernelspec": {
   "display_name": "Python 3",
   "language": "python",
   "name": "python3"
  },
  "language_info": {
   "codemirror_mode": {
    "name": "ipython",
    "version": 3
   },
   "file_extension": ".py",
   "mimetype": "text/x-python",
   "name": "python",
   "nbconvert_exporter": "python",
   "pygments_lexer": "ipython3",
   "version": "3.7.6"
  }
 },
 "nbformat": 4,
 "nbformat_minor": 4
}
